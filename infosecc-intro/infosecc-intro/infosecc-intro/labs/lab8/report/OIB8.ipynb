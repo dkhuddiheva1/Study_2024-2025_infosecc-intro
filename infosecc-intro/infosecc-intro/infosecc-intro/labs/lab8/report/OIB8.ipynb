{
  "metadata": {
    "kernelspec": {
      "name": "xpython",
      "display_name": "Python 3.13 (XPython)",
      "language": "python"
    },
    "language_info": {
      "file_extension": ".py",
      "mimetype": "text/x-python",
      "name": "python",
      "version": "3.13.1"
    }
  },
  "nbformat_minor": 5,
  "nbformat": 4,
  "cells": [
    {
      "id": "0e3ed8dd-11c4-458d-b469-20182a99689c",
      "cell_type": "code",
      "source": "import random\nimport string\n\ndef generate_key_hex(text):\n    key = ''\n    for i in range(len(text)):\n        key += random.choice(string.ascii_letters + string.digits) \n    return key\n\ndef en_de_crypt(text, key):\n    new_text = ''\n    for i in range(len(text)):\n        new_text += chr(ord(text[i]) ^ ord(key[i % len(key)]))\n        return new_text\n\ndef find_poddible_key(text, fragment):\n    possible_key = []\n    for i in range(lrn(text)-len(fragment)+1):\n        possible_key = ''\n        for j in range(len(fragment)):\n            key_char = chr(ord(text[i+j]) ^ ord(fragment[j]))\n            possible_key += chr(ord(text[i+j]) ^ ord(fragment[j]))\n        possible_keys.append(possible_key)\n    return possible_keys\n\nt = 'С Новым Годом, друзья!'\nkey = generate_key_hex(t)\nen_t = en_de_crypt(t, key)\nde_t = en_de_crypt(en_t, key)\n\nprint(\"Открытый текст: \", t,\"\\nКлюч: \", key, '\\nШифротекст: ', en_t, 'Исходный текст: ', de_t,)\nprint(find_possible_key(t, fragment=''",
      "metadata": {
        "trusted": true
      },
      "outputs": [
        {
          "name": "stdout",
          "output_type": "stream",
          "text": "Открытый текст:  С Новым Годом, друзья! \nКлюч:  BMFIKrBIQ1hBJv7c0HC45x \nШифротекст:  ѣ Исходный текст:  С\n"
        }
      ],
      "execution_count": 5
    },
    {
      "id": "02cc6b6a-cfb5-4247-9f43-05eaafe4a5c5",
      "cell_type": "code",
      "source": "import random\nimport string\n\ndef generate_key_hex(text):\n    key = ''\n    for i in range(len(text)):\n        key += random.choice(string.ascii_letters + string.digits) \n    return key\n\ndef en_de_crypt(text, key):\n    new_text = ''\n    for i in range(len(text)):\n        new_text += chr(ord(text[i]) ^ ord(key[i % len(key)]))\n        return new_text\n\ndef find_possible_key(text, fragment):\n    possible_keys = []\n    for i in range(len(text)-len(fragment)+1):\n        possible_key = ''\n        for j in range(len(fragment)):\n            key_char = chr(ord(text[i+j]) ^ ord(fragment[j]))\n            possible_key += chr(ord(text[i+j]) ^ ord(fragment[j]))\n        possible_keys.append(possible_key)\n    return possible_keys\n\nt = 'С Новым Годом, друзья!'\nkey = generate_key_hex(t)\nen_t = en_de_crypt(t, key)\nde_t = en_de_crypt(en_t, key)\nkeys_t_f = find_possible_key(t, fragment='С Новым')\n\nt2 = \"С Новым счастьем, друзья!\"\nen_t2 = en_de_crypt(t2, key)\nde_t2 = en_de_crypt(en_t2, key)\n\nprint(\"Открытый текст: \", t,\"\\nКлюч: \", key, '\\nШифротекст: ', en_t, 'Исходный текст: ', de_t,)\nprint(en_de_crypt(en_t, keys_t_f[1]))",
      "metadata": {
        "trusted": true
      },
      "outputs": [
        {
          "name": "stdout",
          "output_type": "stream",
          "text": "Открытый текст:  С Новым Годом, друзья! \nКлюч:  JsbAPVYDd4fLy03yK3hwSW \nШифротекст:  ѫ Исходный текст:  С\nj\n"
        }
      ],
      "execution_count": 10
    },
    {
      "id": "be4f90cd-c627-4ed8-bc61-f4dc88a7cd82",
      "cell_type": "code",
      "source": "",
      "metadata": {
        "trusted": true
      },
      "outputs": [],
      "execution_count": null
    }
  ]
}